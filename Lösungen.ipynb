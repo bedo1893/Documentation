{
 "cells": [
  {
   "cell_type": "markdown",
   "metadata": {},
   "source": [
    "# **Aufgabe 1** "
   ]
  },
  {
   "cell_type": "markdown",
   "metadata": {},
   "source": [
    "## **Aufgabe 1.1** "
   ]
  },
  {
   "cell_type": "code",
   "execution_count": null,
   "metadata": {},
   "outputs": [],
   "source": [
    "def get_squared_odds(numbers):\n",
    "    result = []\n",
    "\n",
    "    for number in numbers:\n",
    "        if number % 2 == 1:\n",
    "            # Nur ungerade Zahlen quadrieren\n",
    "            result.append(number * number)\n",
    "\n",
    "    return result\n",
    "\n",
    "values = [1, 2, 3, 4, 5]\n",
    "print(get_squared_odds(values))\n"
   ]
  },
  {
   "cell_type": "markdown",
   "metadata": {},
   "source": [
    "## **Aufgabe 1.2** "
   ]
  },
  {
   "cell_type": "code",
   "execution_count": null,
   "metadata": {},
   "outputs": [],
   "source": [
    "def double_and_reverse(numbers):\n",
    "    # Alle Zahlen verdoppeln\n",
    "    for i in range(len(numbers)):\n",
    "        numbers[i] = numbers[i] * 2\n",
    "\n",
    "    # Reihenfolge umkehren\n",
    "    numbers.reverse()\n",
    "\n",
    "    return numbers\n",
    "\n",
    "values = [1, 2, 3]\n",
    "print(double_and_reverse(values))\n"
   ]
  },
  {
   "cell_type": "markdown",
   "metadata": {},
   "source": [
    "## **Aufgabe 1.3** "
   ]
  },
  {
   "cell_type": "code",
   "execution_count": null,
   "metadata": {},
   "outputs": [],
   "source": [
    "def get_even_numbers(numbers):\n",
    "    # Gibt alle geraden Zahlen aus der Liste zurück\n",
    "    result = []\n",
    "    for num in numbers:\n",
    "        if num % 2 == 0:\n",
    "            result.append(num)\n",
    "    return result\n",
    "\n",
    "values = [1, 2, 3, 4, 5]\n",
    "print(get_even_numbers(values))  \n"
   ]
  },
  {
   "cell_type": "markdown",
   "metadata": {},
   "source": [
    "# **Aufgabe 2**"
   ]
  },
  {
   "cell_type": "markdown",
   "metadata": {},
   "source": [
    "## **Aufgabe 2.1**"
   ]
  },
  {
   "cell_type": "code",
   "execution_count": null,
   "metadata": {},
   "outputs": [],
   "source": [
    "def average_temperature(temperatures, fahrenheit=False):\n",
    "    \"\"\"\n",
    "    Berechnet die durchschnittliche Temperatur aus einer Liste von Werten.\n",
    "\n",
    "    Wenn `fahrenheit` auf True gesetzt ist, wird der Durchschnittswert in Fahrenheit zurückgegeben.\n",
    "\n",
    "    Parameters\n",
    "    ----------\n",
    "    temperatures : list of float\n",
    "        Eine Liste von Temperaturwerten in Grad Celsius.\n",
    "    fahrenheit : bool, optional\n",
    "        Wenn True, wird die Durchschnittstemperatur in Fahrenheit zurückgegeben. Standard ist False.\n",
    "\n",
    "    Returns\n",
    "    -------------\n",
    "    float oder None\n",
    "        Die durchschnittliche Temperatur in Celsius oder Fahrenheit.\n",
    "        Gibt None zurück, wenn die Liste leer ist.\n",
    "\n",
    "    Examples\n",
    "    ---------\n",
    "    >>> average_temperature([20.0, 22.0, 24.0])\n",
    "    22.0\n",
    "    >>> average_temperature([20.0, 22.0, 24.0], fahrenheit=True)\n",
    "    71.6\n",
    "    >>> average_temperature([])\n",
    "    None\n",
    "    \"\"\"\n",
    "    if not temperatures:\n",
    "        return None\n",
    "\n",
    "    avg = sum(temperatures) / len(temperatures)\n",
    "    \n",
    "    if fahrenheit:\n",
    "        return avg * 9/5 + 32\n",
    "    return avg\n"
   ]
  },
  {
   "cell_type": "markdown",
   "metadata": {},
   "source": [
    "## **Aufgabe 2.1**"
   ]
  },
  {
   "cell_type": "code",
   "execution_count": null,
   "metadata": {},
   "outputs": [],
   "source": [
    "def is_draw(home_goals, away_goals):\n",
    "    \"\"\"\n",
    "    Bestimmt, ob ein Fußballspiel unentschieden ausgegangen ist.\n",
    "\n",
    "    Args:\n",
    "        home_goals (int): Anzahl der Tore der Heimmannschaft.\n",
    "        away_goals (int): Anzahl der Tore der Auswärtsmannschaft.\n",
    "\n",
    "    Returns:\n",
    "        bool: True, wenn das Spiel unentschieden endete, sonst False.\n",
    "\n",
    "    Examples:\n",
    "        >>> is_draw(2, 2)\n",
    "        True\n",
    "        >>> is_draw(1, 0)\n",
    "        False\n",
    "    \"\"\"\n",
    "    return home_goals == away_goals\n"
   ]
  },
  {
   "cell_type": "markdown",
   "metadata": {},
   "source": [
    "# **Aufgabe 4**"
   ]
  },
  {
   "cell_type": "code",
   "execution_count": null,
   "metadata": {},
   "outputs": [],
   "source": []
  },
  {
   "cell_type": "markdown",
   "metadata": {},
   "source": [
    "# Mein Wetterprojekt\n",
    "\n",
    "In diesem Projekt analysiere ich **Wetterdaten** aus verschiedenen Städten.\n",
    "Dabei betrachte ich unter anderem **Temperaturen**, **Niederschlag** und **Sonnenstunden**.\n",
    "\n",
    "## Datenquellen\n",
    "\n",
    "Die Daten stammen von [wetter.com](https://www.wetter.com).\n",
    "\n",
    "## Ziel des Projekts\n",
    "\n",
    "- [x] Temperatur vergleichen\n",
    "- [ ] Niederschlagsdaten analysieren\n",
    "- [ ] Sonnenstunden visualisieren\n",
    "\n",
    "## Beispielhafte Wetterkarte\n",
    "\n",
    "`Bild eurer Wahl einfügen`\n",
    "\n",
    "## Fazit \n",
    "\n",
    "Das Projekt hat gezeigt, dass **Berlin** im Vergleich zu **München** durchschnittlich wärmer ist.\n",
    "Weitere Analysen folgen."
   ]
  }
 ],
 "metadata": {
  "kernelspec": {
   "display_name": "Python 3",
   "language": "python",
   "name": "python3"
  },
  "language_info": {
   "name": "python",
   "version": "3.10.16"
  }
 },
 "nbformat": 4,
 "nbformat_minor": 2
}
