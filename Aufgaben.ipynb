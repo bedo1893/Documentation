{
 "cells": [
  {
   "cell_type": "markdown",
   "metadata": {},
   "source": [
    "# **Aufgabe 1**"
   ]
  },
  {
   "cell_type": "markdown",
   "metadata": {},
   "source": [
    "## **Aufgabe 1.1**\n",
    "\n",
    "- Benenne Funktion und Variablen `klar` und `sprechend`\n",
    "- Füge nur `sinnvolle` Kommentare hinzu (**keine** **überflüssigen!**)"
   ]
  },
  {
   "cell_type": "code",
   "execution_count": null,
   "metadata": {},
   "outputs": [],
   "source": [
    "def d(x):\n",
    "    r = []\n",
    "    for i in x:\n",
    "        if i % 2 == 1:\n",
    "            r.append(i * i)\n",
    "    return r\n",
    "\n",
    "a = [1, 2, 3, 4, 5]\n",
    "print(d(a))\n",
    "\n"
   ]
  },
  {
   "cell_type": "markdown",
   "metadata": {},
   "source": [
    "## **Aufgabe 1.2**\n",
    "\n",
    "- Benenne Funktion und Variablen `klar` und `sprechend`\n",
    "- Füge nur `sinnvolle` Kommentare hinzu (**keine** **überflüssigen!**)"
   ]
  },
  {
   "cell_type": "code",
   "execution_count": null,
   "metadata": {},
   "outputs": [],
   "source": [
    "def calc(x):\n",
    "    for i in range(len(x)):\n",
    "        x[i] = x[i] * 2\n",
    "    x.reverse()\n",
    "    return x\n",
    "\n",
    "nums = [1, 2, 3]\n",
    "print(calc(nums))\n"
   ]
  },
  {
   "cell_type": "markdown",
   "metadata": {},
   "source": [
    "## **Aufgabe 1.3**\n",
    "\n",
    "- Korrigiere die `falschen` oder `unpassenden` Kommentare "
   ]
  },
  {
   "cell_type": "code",
   "execution_count": null,
   "metadata": {},
   "outputs": [],
   "source": [
    "# Das ist eine Funktion\n",
    "def get_even_numbers(numbers):\n",
    "    # Gibt alle ungeraden Zahlen in der Liste zurück\n",
    "    result = []\n",
    "    for num in numbers:\n",
    "        if num % 2 == 0:\n",
    "            result.append(num)\n",
    "    return result #Gib das Ergebnis zurück\n",
    "\n",
    "values = [1, 2, 3, 4, 5] #Liste mit Zahlen\n",
    "print(get_even_numbers(values))  # Gibt ungerade Zahlen aus\n",
    "\n"
   ]
  },
  {
   "cell_type": "markdown",
   "metadata": {},
   "source": [
    "# **Aufgabe 2**"
   ]
  },
  {
   "cell_type": "markdown",
   "metadata": {},
   "source": [
    "## **Aufgabe 2.1**\n",
    "\n",
    "- Schreibe einen vollständigen `NumPy-Style Docstring` für diese Funktion.\n",
    "- Achte auf `Parameter`, `Rückgabe` und was passiert, wenn die `Liste leer` ist."
   ]
  },
  {
   "cell_type": "code",
   "execution_count": null,
   "metadata": {},
   "outputs": [],
   "source": [
    "def average_temperature(temperatures, fahrenheit=False):\n",
    "    if not temperatures:\n",
    "        return None\n",
    "\n",
    "    avg = sum(temperatures) / len(temperatures)\n",
    "    \n",
    "    if fahrenheit:\n",
    "        return avg * 9/5 + 32\n",
    "    return avg\n"
   ]
  },
  {
   "cell_type": "markdown",
   "metadata": {},
   "source": [
    "## **Aufgabe 2.1**\n",
    "\n",
    "- Schreibe einen vollständigen `Google-Style Docstring` für diese Funktion.\n"
   ]
  },
  {
   "cell_type": "code",
   "execution_count": null,
   "metadata": {},
   "outputs": [],
   "source": [
    "def is_draw(home_goals, away_goals):\n",
    "    return home_goals == away_goals\n"
   ]
  },
  {
   "cell_type": "markdown",
   "metadata": {},
   "source": [
    "# **Aufgabe 4**"
   ]
  },
  {
   "cell_type": "markdown",
   "metadata": {},
   "source": [
    "# Mein Wetterprojekt\n",
    "\n",
    "In diesem Projekt analysiere ich **Wetterdaten** aus verschiedenen Städten.\n",
    "Dabei betrachte ich unter anderem **Temperaturen**, **Niederschlag** und **Sonnenstunden**.\n",
    "\n",
    "## Datenquellen\n",
    "\n",
    "Die Daten stammen von [wetter.com](https://www.wetter.com).\n",
    "\n",
    "## Ziel des Projekts\n",
    "\n",
    "- [x] Temperatur vergleichen\n",
    "- [ ] Niederschlagsdaten analysieren\n",
    "- [ ] Sonnenstunden visualisieren\n",
    "\n",
    "## Beispielhafte Wetterkarte\n",
    "\n",
    "`Bild eurer Wahl einfügen`\n",
    "\n",
    "## Fazit \n",
    "\n",
    "Das Projekt hat gezeigt, dass **Berlin** im Vergleich zu **München** durchschnittlich wärmer ist.\n",
    "Weitere Analysen folgen.\n",
    "\n",
    "\n",
    "\n"
   ]
  }
 ],
 "metadata": {
  "language_info": {
   "name": "python"
  }
 },
 "nbformat": 4,
 "nbformat_minor": 2
}
