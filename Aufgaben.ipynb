{
 "cells": [
  {
   "cell_type": "markdown",
   "metadata": {},
   "source": [
    "Deine Aufgabe:\n",
    "Lies den Code und versuche zu verstehen, was er tut.\n",
    "\n",
    "Benenne alle Variablen und die Funktion so um, dass sofort klar ist, was ihre Aufgabe ist.\n",
    "\n",
    "Schreibe den überarbeiteten, lesbaren Code neu."
   ]
  },
  {
   "cell_type": "code",
   "execution_count": null,
   "metadata": {},
   "outputs": [],
   "source": [
    "def do(a, b):\n",
    "    c = a * b\n",
    "    d = []\n",
    "    for i in range(c):\n",
    "        if i % 2 == 0:\n",
    "            d.append(i)\n",
    "    return d\n",
    "\n",
    "x = 3\n",
    "y = 4\n",
    "z = do(x, y)\n",
    "print(z)\n"
   ]
  },
  {
   "cell_type": "code",
   "execution_count": null,
   "metadata": {},
   "outputs": [],
   "source": [
    "\n"
   ]
  }
 ],
 "metadata": {
  "language_info": {
   "name": "python"
  }
 },
 "nbformat": 4,
 "nbformat_minor": 2
}
